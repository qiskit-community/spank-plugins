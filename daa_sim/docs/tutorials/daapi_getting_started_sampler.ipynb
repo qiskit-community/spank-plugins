{
 "cells": [
  {
   "cell_type": "markdown",
   "id": "f2d69d54-fada-4d7f-aba4-62c2bcadd2c3",
   "metadata": {},
   "source": [
    "# Direct Access API - Getting Started\n",
    "Once you have received access to the Direct Access API you can try the below instruction to make sure all the functionality works as expected."
   ]
  },
  {
   "cell_type": "code",
   "execution_count": null,
   "id": "f89b7c82-8bb1-4504-9a88-1fb69c401f75",
   "metadata": {},
   "outputs": [],
   "source": [
    "# Install python dependencies\n",
    "! pip install \"qiskit>=1.2.2\"\n",
    "! pip install \"qiskit_ibm_runtime>=0.30.0\"\n",
    "! pip install qiskit_qasm3_import\n",
    "! pip install boto3\n",
    "! pip install matplotlib\n",
    "! pip install pylatexenc\n",
    "! pip install numpy"
   ]
  },
  {
   "cell_type": "code",
   "execution_count": null,
   "id": "0854454e-bb66-4273-b7c2-e29322492f60",
   "metadata": {},
   "outputs": [],
   "source": [
    "# Getting started\n",
    "import requests\n",
    "import json\n",
    "import boto3"
   ]
  },
  {
   "cell_type": "code",
   "execution_count": null,
   "id": "0b52375f-d8ed-4e0a-aa8e-53a47ab9e0cd",
   "metadata": {},
   "outputs": [],
   "source": [
    "# S3 related parameters\n",
    "aws_access_key_id = \"YOUR_AWS_ACCESS_KEY_ID\"\n",
    "aws_secret_access_key = \"YOUR_AWS_SECRET_ACCESS_KEY\"\n",
    "s3_endpoint_url = \"YOUR_S3_ENDPOINT - https://s3.us-east.cloud-object-storage.appdomain.cloud\"\n",
    "s3_bucket = \"YOUR BUCKET\"\n",
    "\n",
    "# Direct Access API endpoint\n",
    "base_url = \"http://localhost:8290\""
   ]
  },
  {
   "cell_type": "code",
   "execution_count": null,
   "id": "fb40785b-abb3-4d46-8683-79e72034d8fe",
   "metadata": {},
   "outputs": [],
   "source": [
    "# run with daa_sim(Qiskit Aer) ? if this is True, num_qubits of the circuit will be reduced to 7 qubits.\n",
    "# set False if you run with real device.\n",
    "use_daa_sim = True"
   ]
  },
  {
   "cell_type": "markdown",
   "id": "6e92cc70-e541-463f-a655-3df4888b875a",
   "metadata": {},
   "source": [
    "## Get access token (IAM based authentication)"
   ]
  },
  {
   "cell_type": "code",
   "execution_count": null,
   "id": "46ea53da-2b56-477a-bae9-ccbdf387b81b",
   "metadata": {
    "scrolled": true
   },
   "outputs": [],
   "source": [
    "import datetime as dt\n",
    "\n",
    "iam_apikey = \"YOUR_IAM_API_KEY\"\n",
    "iam_endpoint_url = \"https://iam.cloud.ibm.com\"\n",
    "service_crn = \"YOUR_PROVISIONED_INSTANCE - crn:v1:...\"\n",
    "\n",
    "# if IAM access token authentication is enabled.\n",
    "iam_headers = {\n",
    "    \"content-type\": \"application/x-www-form-urlencoded\",\n",
    "    \"accept\": \"application/json\",\n",
    "}\n",
    "\n",
    "request_payload = {\n",
    "    \"grant_type\": \"urn:ibm:params:oauth:grant-type:apikey\",\n",
    "    \"apikey\": {iam_apikey},\n",
    "}\n",
    "\n",
    "get_token_url = f\"{iam_endpoint_url}/identity/token\"\n",
    "token_response = requests.post(get_token_url, data=request_payload, headers=iam_headers)\n",
    "resp_json = token_response.json()\n",
    "\n",
    "# create HTTP header for subsequent API calls\n",
    "access_token = resp_json[\"access_token\"]\n",
    "token_type = resp_json[\"token_type\"]\n",
    "now = dt.datetime.now(dt.timezone.utc) \n",
    "headers={\n",
    "    \"Authorization\": f\"{token_type} {access_token}\",\n",
    "    \"Service-CRN\": service_crn,\n",
    "}\n",
    "print(json.dumps(headers, indent=2))"
   ]
  },
  {
   "cell_type": "markdown",
   "id": "0e919544-c07e-4140-a2ab-90eb54152aaa",
   "metadata": {},
   "source": [
    "## (Deprecated) Get access token (AppId based authentication)"
   ]
  },
  {
   "cell_type": "code",
   "execution_count": null,
   "id": "d80f8ebb-d350-490e-b025-ec97039fb468",
   "metadata": {
    "scrolled": true
   },
   "outputs": [],
   "source": [
    "import datetime as dt\n",
    "\n",
    "appid_client_id = \"YOUR_APPID_CLIENT_ID\"\n",
    "appid_secret = \"YOUR_APPID_SECRET\"\n",
    "\n",
    "# (Deprecated) if AppId access token authentication is enabled\n",
    "get_token_url = f\"{base_url}/v1/token\"\n",
    "token_response = requests.post(get_token_url, data={}, auth=(appid_client_id, appid_secret))\n",
    "\n",
    "resp_json = token_response.json()\n",
    "\n",
    "# create HTTP header for subsequent API calls\n",
    "access_token = resp_json[\"access_token\"]\n",
    "token_type = resp_json[\"token_type\"]\n",
    "now = dt.datetime.now(dt.timezone.utc) \n",
    "headers={\n",
    "    \"Authorization\": f\"{token_type} {access_token}\",\n",
    "}\n",
    "print(json.dumps(headers, indent=2))"
   ]
  },
  {
   "cell_type": "markdown",
   "id": "dcb39717-ffa7-4fc1-b283-6e573738887d",
   "metadata": {},
   "source": [
    "## Listing supported backends"
   ]
  },
  {
   "cell_type": "code",
   "execution_count": null,
   "id": "34c38ebb-7829-4e6f-889d-aa730b268ac7",
   "metadata": {},
   "outputs": [],
   "source": [
    "backends_url = f\"{base_url}/v1/backends\"\n",
    "backends_response = requests.get(backends_url, headers=headers)\n",
    "if backends_response.status_code == 200:\n",
    "    print(json.dumps(backends_response.json(), indent=4))\n",
    "else:\n",
    "    print(backends_response.__dict__) "
   ]
  },
  {
   "cell_type": "markdown",
   "id": "99287f48-3bc4-4d82-bc98-442c9fcb6c0f",
   "metadata": {},
   "source": [
    "## Run a job\n",
    "\n",
    "During the testing phase you can run upto 5 concurrent jobs and in order to be able to submit more jobs you have to delete completed jobs using DELETE /jobs API, otherwise you'll get a 429 Too Many Requests error."
   ]
  },
  {
   "cell_type": "markdown",
   "id": "1083ebb4-a59d-49e2-aab7-4139217994c0",
   "metadata": {},
   "source": [
    "### 0. Select a Quantum Backend"
   ]
  },
  {
   "cell_type": "code",
   "execution_count": null,
   "id": "3750e8b0-5fa6-4c96-8bc2-58c27a7bf76a",
   "metadata": {},
   "outputs": [],
   "source": [
    "backend_name = \"fake_brisbane\""
   ]
  },
  {
   "cell_type": "markdown",
   "id": "1dd900ce-480c-4a02-b6fb-ea9907f79276",
   "metadata": {},
   "source": [
    "### 1. Get backend configuration"
   ]
  },
  {
   "cell_type": "code",
   "execution_count": null,
   "id": "f8f3fcfd-0162-4d4b-8374-708356cef34c",
   "metadata": {},
   "outputs": [],
   "source": [
    "from qiskit_ibm_runtime.models import BackendConfiguration\n",
    "\n",
    "backend_config_url = f\"{base_url}/v1/backends/{backend_name}/configuration\"\n",
    "backend_config_resp = requests.get(backend_config_url, headers=headers)\n",
    "if backend_config_resp.status_code == 200:\n",
    "    backend_config_json = backend_config_resp.json()\n",
    "    print(json.dumps(backend_config_json, indent=4))\n",
    "    backend_config = BackendConfiguration.from_dict(backend_config_json)\n",
    "else:\n",
    "    print(backend_config_resp.__dict__) \n",
    "print(backend_config)"
   ]
  },
  {
   "cell_type": "markdown",
   "id": "44ee8e6c-eecc-4296-bf18-58ccc456d9c7",
   "metadata": {},
   "source": [
    "### 2. Get backend properties"
   ]
  },
  {
   "cell_type": "code",
   "execution_count": null,
   "id": "75db4fc6-704b-4762-bd18-baf9abba711b",
   "metadata": {},
   "outputs": [],
   "source": [
    "from qiskit_ibm_runtime.models import BackendProperties\n",
    "\n",
    "backend_props_url = f\"{base_url}/v1/backends/{backend_name}/properties\"\n",
    "backend_props_resp = requests.get(backend_props_url, headers=headers)\n",
    "if backend_props_resp.status_code == 200:\n",
    "    backend_props_json = backend_props_resp.json()\n",
    "    print(json.dumps(backend_props_json, indent=4))\n",
    "    backend_props = BackendProperties.from_dict(backend_props_json)\n",
    "else:\n",
    "    print(backend_props_resp.__dict__)\n",
    "print(backend_props)"
   ]
  },
  {
   "cell_type": "markdown",
   "id": "80bd4537-4636-49f0-90b0-36ff39e93467",
   "metadata": {},
   "source": [
    "### 3. Set up Circuit and Transpile \n",
    "\n",
    "Set up simple SamplerV2 circuit and transpile it.  "
   ]
  },
  {
   "cell_type": "code",
   "execution_count": null,
   "id": "baec2ad8-1d25-4d35-af4b-05653636a50f",
   "metadata": {},
   "outputs": [],
   "source": [
    "# Setup circuit and transpile\n",
    "import numpy as np\n",
    "from qiskit.circuit.library import IQP\n",
    "from qiskit.quantum_info import random_hermitian\n",
    "from qiskit.transpiler.preset_passmanagers import generate_preset_pass_manager\n",
    "from qiskit_ibm_runtime.utils.backend_converter import convert_to_target\n",
    "\n",
    "# Create simple circuit - Use SamplerV2 example which is introduced in \"Getting started with Primitive\" page.\n",
    "# https://docs.quantum.ibm.com/guides/get-started-with-primitives#get-started-with-sampler\n",
    "num_qubits = backend_config.num_qubits if use_daa_sim == False else 7\n",
    "mat = np.real(random_hermitian(num_qubits, seed=1234))\n",
    "circuit = IQP(mat)\n",
    "circuit.measure_all()\n",
    "\n",
    "# Generate transpiler target from backend configuration & properties\n",
    "target = convert_to_target(backend_config, backend_props)\n",
    "pm = generate_preset_pass_manager(\n",
    "    optimization_level=1,\n",
    "    target=target,\n",
    ")\n",
    "isa_circuit = pm.run(circuit)\n",
    "isa_circuit.draw(\"mpl\", idle_wires=False)"
   ]
  },
  {
   "cell_type": "markdown",
   "id": "5f298383-8387-45b4-80df-445d46235ba8",
   "metadata": {},
   "source": [
    "### 4. Create input to SamplerV2 primitive\n",
    "Create the primitive input as per the SamplerV2 schema https://github.com/Qiskit/ibm-quantum-schemas/blob/main/schemas/sampler_v2_schema.json\n",
    "and serialize it. EstimatorV2 schema is also available here https://github.com/Qiskit/ibm-quantum-schemas/blob/main/schemas/estimator_v2_schema.json"
   ]
  },
  {
   "cell_type": "code",
   "execution_count": null,
   "id": "a040fe2b-8880-4511-b883-951befb31d68",
   "metadata": {},
   "outputs": [],
   "source": [
    "from qiskit import qasm3\n",
    "from qiskit_ibm_runtime.utils import RuntimeEncoder\n",
    "\n",
    "# Default precision level which applies to all pubs without precision\n",
    "shots = 10000\n",
    "\n",
    "# Generate QASM3 instructions\n",
    "qasm3_str = qasm3.dumps(\n",
    "    isa_circuit,\n",
    "    disable_constants=True,\n",
    "    allow_aliasing=True,\n",
    "    experimental=qasm3.ExperimentalFeatures.SWITCH_CASE_V1,\n",
    ")\n",
    "\n",
    "# Generates JSON representation of sampler job\n",
    "input_json = {\n",
    "    \"pubs\": [[qasm3_str]],\n",
    "    \"version\": 2,\n",
    "    \"support_qiskit\": False,\n",
    "    \"shots\": shots,\n",
    "    \"options\": {},\n",
    "}\n",
    "\n",
    "print(json.dumps(input_json, cls=RuntimeEncoder, indent=2))\n",
    "primitive_input = json.dumps(input_json, cls=RuntimeEncoder)"
   ]
  },
  {
   "cell_type": "markdown",
   "id": "eeb6f67d-1883-454f-91c2-7e0da8b96914",
   "metadata": {},
   "source": [
    "### 5. Upload primitive input to S3 storage and construct payload to run job"
   ]
  },
  {
   "cell_type": "code",
   "execution_count": null,
   "id": "58bd7cdf-f561-40a8-a4dd-dd36d05b1b42",
   "metadata": {},
   "outputs": [],
   "source": [
    "# Initialize S3 client\n",
    "expiration = 86400  # 1 day\n",
    "cos = boto3.client(\"s3\",\n",
    "                   aws_access_key_id=aws_access_key_id,\n",
    "                   aws_secret_access_key=aws_secret_access_key,\n",
    "                   endpoint_url=s3_endpoint_url)"
   ]
  },
  {
   "cell_type": "code",
   "execution_count": null,
   "id": "c12706b3-265c-404f-9714-00085f635d17",
   "metadata": {},
   "outputs": [],
   "source": [
    "import uuid\n",
    "\n",
    "# Generate job ID (UUIDv4)\n",
    "job_id = str(uuid.uuid4())\n",
    "print(\"Job ID: \" + job_id)"
   ]
  },
  {
   "cell_type": "code",
   "execution_count": null,
   "id": "829a1379-b89c-45dd-80a3-7a376e713cc2",
   "metadata": {},
   "outputs": [],
   "source": [
    "# Generate presigned URL to upload job input to S3\n",
    "input_key_name = f\"params_{job_id}\"\n",
    "input_put_signed_url = cos.generate_presigned_url(\n",
    "        ClientMethod=\"put_object\",\n",
    "        Params={\"Bucket\": s3_bucket, \"Key\": input_key_name},\n",
    "        ExpiresIn=expiration,\n",
    "        HttpMethod=\"PUT\",\n",
    "    )\n",
    "print(input_put_signed_url)"
   ]
  },
  {
   "cell_type": "code",
   "execution_count": null,
   "id": "9f66ab8e-2123-4031-a846-d7e75e63c228",
   "metadata": {},
   "outputs": [],
   "source": [
    "# Upload job input to S3\n",
    "http_response = requests.put(input_put_signed_url, data=primitive_input)\n",
    "print(http_response.__dict__[\"status_code\"])"
   ]
  },
  {
   "cell_type": "code",
   "execution_count": null,
   "id": "45a2963d-0bc4-4eac-b533-6e54679cd744",
   "metadata": {},
   "outputs": [],
   "source": [
    "# Generate presigned URL for getting job input from S3\n",
    "input_get_signed_url = cos.generate_presigned_url(\n",
    "        ClientMethod=\"get_object\",\n",
    "        Params={\"Bucket\": s3_bucket, \"Key\": input_key_name},\n",
    "        ExpiresIn=expiration,\n",
    "        HttpMethod=\"GET\",\n",
    "    )\n",
    "print(input_get_signed_url)"
   ]
  },
  {
   "cell_type": "code",
   "execution_count": null,
   "id": "5bea5117-6183-45db-a0ad-7b4e8c25c59b",
   "metadata": {},
   "outputs": [],
   "source": [
    "# Generate presigned URL for results\n",
    "results_key_name = f\"results_{job_id}\"\n",
    "results_put_signed_url = cos.generate_presigned_url(\n",
    "        ClientMethod=\"put_object\",\n",
    "        Params={\"Bucket\": s3_bucket, \"Key\": results_key_name},\n",
    "        ExpiresIn=expiration,\n",
    "        HttpMethod=\"PUT\",\n",
    "    )\n",
    "print(results_put_signed_url)"
   ]
  },
  {
   "cell_type": "code",
   "execution_count": null,
   "id": "d201cf48-b187-47a0-9f87-d1fda5a03cbf",
   "metadata": {},
   "outputs": [],
   "source": [
    "# Generate presigned URL for logs\n",
    "logs_key_name = f\"logs_{job_id}\"\n",
    "logs_put_signed_url = cos.generate_presigned_url(\n",
    "        ClientMethod=\"put_object\",\n",
    "        Params={\"Bucket\": s3_bucket, \"Key\": logs_key_name},\n",
    "        ExpiresIn=expiration,\n",
    "        HttpMethod=\"PUT\",\n",
    "    )\n",
    "print(logs_put_signed_url)"
   ]
  },
  {
   "cell_type": "code",
   "execution_count": null,
   "id": "80480ab4-7920-4cf5-9c01-32b7344e626c",
   "metadata": {
    "scrolled": true
   },
   "outputs": [],
   "source": [
    "# Create job input\n",
    "job_input = {\n",
    "    \"backend\": backend_name,\n",
    "    \"id\": job_id,\n",
    "    \"log_level\": \"info\",\n",
    "    \"program_id\": \"sampler\",\n",
    "    \"timeout_secs\": 10000,\n",
    "    \"storage\": {\n",
    "        \"input\": {\n",
    "            \"type\": \"s3_compatible\",\n",
    "            \"presigned_url\": input_get_signed_url\n",
    "        },\n",
    "        \"results\": {\n",
    "            \"type\": \"s3_compatible\",\n",
    "            \"presigned_url\": results_put_signed_url\n",
    "        },\n",
    "        \"logs\": {\n",
    "            \"type\": \"s3_compatible\",\n",
    "            \"presigned_url\": logs_put_signed_url\n",
    "        }\n",
    "    }\n",
    "}\n",
    "\n",
    "print(json.dumps(job_input, indent=2))"
   ]
  },
  {
   "cell_type": "markdown",
   "id": "a545fcb3-175f-4aeb-887c-141cedea8798",
   "metadata": {},
   "source": [
    "### 6. Submit job\n",
    "Once the job completes the results and logs will be uploaded to the S3 compatible object storage using the privided presigned URLs."
   ]
  },
  {
   "cell_type": "code",
   "execution_count": null,
   "id": "f2e78951-1322-4a85-ab9d-b8b8c6727e34",
   "metadata": {},
   "outputs": [],
   "source": [
    "# Submit a job\n",
    "run_job_url = f\"{base_url}/v1/jobs\"\n",
    "run_job_response = requests.post(run_job_url, data=json.dumps(job_input), headers=headers)\n",
    "if run_job_response.status_code == 204:\n",
    "    print(\"Succeeded.\")\n",
    "else:\n",
    "    print(run_job_response.__dict__) "
   ]
  },
  {
   "cell_type": "markdown",
   "id": "0d4fa44e-485c-43fa-ac7a-c102cee60d31",
   "metadata": {},
   "source": [
    "## Check job status\n",
    "The GET /v1/jobs API can be used to check status of submitted jobs. User can repeatedly call the API to know when the Job is completed."
   ]
  },
  {
   "cell_type": "code",
   "execution_count": null,
   "id": "9f024604-4b46-4d13-81ef-1ef5bd4ba5ab",
   "metadata": {},
   "outputs": [],
   "source": [
    "# Get job status\n",
    "get_jobs_url = f\"{base_url}/v1/jobs\"\n",
    "get_jobs_response = requests.get(get_jobs_url, headers=headers)\n",
    "if get_jobs_response.status_code == 200:\n",
    "    print(json.dumps(get_jobs_response.json(), indent=4))\n",
    "else:\n",
    "    print(get_jobs_response.__dict__)"
   ]
  },
  {
   "cell_type": "markdown",
   "id": "10738e88-6bbe-4a79-af5f-a0261cbacd69",
   "metadata": {},
   "source": [
    "## Cancel job (Optional)\n",
    "This POST /v1/jobs/{job_id}/cancel API can be used to cancel a job when the user requests cancellation or when the client scheduler wants to cancel a long running job that seems stuck."
   ]
  },
  {
   "cell_type": "code",
   "execution_count": null,
   "id": "0f313ae8-46af-479f-aed3-a1b753d65bcf",
   "metadata": {},
   "outputs": [],
   "source": [
    "# Cancel job\n",
    "cancel_job_url = f\"{base_url}/v1/jobs/{job_id}/cancel\"\n",
    "cancel_job_response = requests.post(cancel_job_url, data={}, headers=headers)\n",
    "if cancel_job_response.status_code == 204:\n",
    "    print(\"Job cancelled successfully.\")\n",
    "else:\n",
    "    print(cancel_job_response.__dict__)"
   ]
  },
  {
   "cell_type": "markdown",
   "id": "9325885a-1a71-409b-b375-d413b1d4f907",
   "metadata": {},
   "source": [
    "## Download the results from S3"
   ]
  },
  {
   "cell_type": "code",
   "execution_count": null,
   "id": "9ce55a20-bc52-422d-8132-62de39a3dc56",
   "metadata": {},
   "outputs": [],
   "source": [
    "# Generate presigned URL for getting result\n",
    "results_key_name = f\"results_{job_id}\"\n",
    "results_get_signed_url = cos.generate_presigned_url(\n",
    "        ClientMethod=\"get_object\",\n",
    "        Params={\"Bucket\": s3_bucket, \"Key\": results_key_name},\n",
    "        ExpiresIn=expiration,\n",
    "        HttpMethod=\"GET\",\n",
    "    )\n",
    "print(results_get_signed_url)"
   ]
  },
  {
   "cell_type": "code",
   "execution_count": null,
   "id": "89220b19-248a-4078-9b3f-6c89ec883497",
   "metadata": {},
   "outputs": [],
   "source": [
    "# Downloading result from S3 by using presigned URL.\n",
    "http_response = requests.get(results_get_signed_url)\n",
    "print(http_response.__dict__[\"status_code\"])\n",
    "print(json.dumps(http_response.json(), cls=RuntimeEncoder, indent=2))"
   ]
  },
  {
   "cell_type": "markdown",
   "id": "eec13fe9-1a26-49da-a8c7-58fbd87d96fe",
   "metadata": {},
   "source": [
    "## Download the logs from S3 (Optional)"
   ]
  },
  {
   "cell_type": "code",
   "execution_count": null,
   "id": "e02f4ee0-c65b-40af-b612-b41d09c1367b",
   "metadata": {},
   "outputs": [],
   "source": [
    "# Generate presigned URL for getting logs\n",
    "logs_key_name = f\"logs_{job_id}\"\n",
    "logs_get_signed_url = cos.generate_presigned_url(\n",
    "        ClientMethod=\"get_object\",\n",
    "        Params={\"Bucket\": s3_bucket, \"Key\": logs_key_name},\n",
    "        ExpiresIn=expiration,\n",
    "        HttpMethod=\"GET\",\n",
    "    )\n",
    "print(logs_get_signed_url)"
   ]
  },
  {
   "cell_type": "code",
   "execution_count": null,
   "id": "774e2880-8e57-48c8-877e-2ac1035a1082",
   "metadata": {},
   "outputs": [],
   "source": [
    "# Downloading logs from S3 by using presigned URL.\n",
    "http_response = requests.get(logs_get_signed_url)\n",
    "print(http_response.__dict__[\"status_code\"])\n",
    "print(http_response.text)"
   ]
  },
  {
   "cell_type": "markdown",
   "id": "2fdbe76e-d9b5-4226-96ad-bffe9e9a0d53",
   "metadata": {},
   "source": [
    "## Delete job\n",
    "This DELETE /v1/jobs/{job-id} API can be used to delete completed jobs, a job has to be in a terminal state (Terminal Statuses: Completed, Failed, Cancelled) before it can be deleted, please use cancel API to cancel the job and then delete it if need be."
   ]
  },
  {
   "cell_type": "code",
   "execution_count": null,
   "id": "4c11cfa1-f76d-4271-a6c5-ccb68d43755f",
   "metadata": {},
   "outputs": [],
   "source": [
    "# Delete job\n",
    "delete_job_url = f\"{base_url}/v1/jobs/{job_id}\"\n",
    "delete_job_response = requests.delete(delete_job_url, headers=headers)\n",
    "if delete_job_response.status_code == 204:\n",
    "    print(\"Succeeded.\")\n",
    "else:\n",
    "    print(delete_job_response.__dict__) "
   ]
  },
  {
   "cell_type": "code",
   "execution_count": null,
   "id": "b23c6906-80d1-4438-9e13-359635b93dd9",
   "metadata": {},
   "outputs": [],
   "source": [
    "# Really deleted ? - Get jobs again\n",
    "get_jobs_url = f\"{base_url}/v1/jobs\"\n",
    "get_jobs_response = requests.get(get_jobs_url, headers=headers)\n",
    "if get_jobs_response.status_code == 200:\n",
    "    print(json.dumps(get_jobs_response.json(), indent=4))\n",
    "else:\n",
    "    print(get_jobs_response.__dict__)"
   ]
  },
  {
   "cell_type": "code",
   "execution_count": null,
   "id": "52b3db30-908a-46d8-a8e1-010e6d6e09b8",
   "metadata": {},
   "outputs": [],
   "source": []
  },
  {
   "cell_type": "markdown",
   "id": "844c1ae3-3c42-40b2-a1e3-acc58ed3b7ac",
   "metadata": {},
   "source": [
    "End of Notebook"
   ]
  }
 ],
 "metadata": {
  "kernelspec": {
   "display_name": "Python 3 (ipykernel)",
   "language": "python",
   "name": "python3"
  },
  "language_info": {
   "codemirror_mode": {
    "name": "ipython",
    "version": 3
   },
   "file_extension": ".py",
   "mimetype": "text/x-python",
   "name": "python",
   "nbconvert_exporter": "python",
   "pygments_lexer": "ipython3",
   "version": "3.11.11"
  }
 },
 "nbformat": 4,
 "nbformat_minor": 5
}
