{
 "cells": [
  {
   "cell_type": "markdown",
   "id": "9e40af77-7f0f-4dd6-ab0a-420cf396050e",
   "metadata": {},
   "source": [
    "# Improving energy estimation of a chemistry Hamiltonian with SQD\n",
    "\n",
    "In this tutorial we implement a [Qiskit pattern](https://docs.quantum.ibm.com/guides/intro-to-patterns) showing how to post-process noisy quantum samples to find an approximation to the ground state of a chemistry Hamiltonian: the $N_2$ molecule at equilibrium in the 6-31G basis set. We will follow a [sample-based quantum diagonalization approach](https://arxiv.org/abs/2405.05068) to process samples taken from a ``36``-qubit quantum circuit ansatz (in this case, an LUCJ circuit). In order to account for the effect of quantum noise, the configuration recovery technique is used.\n",
    "\n",
    "The pattern can be described in four steps:\n",
    "\n",
    "1. **Step 1: Map to quantum problem**\n",
    "    - Generate an ansatz for estimating the ground state\n",
    "2. **Step 2: Optimize the problem**\n",
    "    - Transpile the ansatz for the backend\n",
    "3. **Step 3: Execute experiments**\n",
    "    - Draw samples from the ansatz using the ``Sampler`` primitive\n",
    "4. **Step 4: Post-process results**\n",
    "   - Self-consistent configuration recovery loop\n",
    "       - Post-process the full set of bitstring samples, using prior knowledge of particle number and the average orbital occupancy calculated on the most recent iteration.\n",
    "       - Probabilistically create batches of subsamples from recovered bitstrings.\n",
    "       - Project and diagonalize the molecular Hamiltonian over each sampled subspace.\n",
    "       - Save the minimum ground state energy found across all batches and update the avg orbital occupancy.\n",
    "\n",
    "\n",
    "For this example, the interacting-electron Hamiltonian takes the generic form:\n",
    "\n",
    "$$\n",
    "\\hat{H} = \\sum_{ \\substack{pr\\\\\\sigma} } h_{pr} \\, \\hat{a}^\\dagger_{p\\sigma} \\hat{a}_{r\\sigma}\n",
    "+ \n",
    "\\sum_{ \\substack{prqs\\\\\\sigma\\tau} }\n",
    "\\frac{(pr|qs)}{2} \\, \n",
    "\\hat{a}^\\dagger_{p\\sigma}\n",
    "\\hat{a}^\\dagger_{q\\tau}\n",
    "\\hat{a}_{s\\tau}\n",
    "\\hat{a}_{r\\sigma}\n",
    "$$\n",
    "\n",
    "$\\hat{a}^\\dagger_{p\\sigma}$/$\\hat{a}_{p\\sigma}$ are the fermionic creation/annihalation operators associated to the $p$-th basis set element and the spin $\\sigma$. $h_{pr}$ and $(pr|qs)$ are the one- and two-body electronic integrals.\n",
    "\n",
    "The SQD workflow with  self-consistent configuration recovery is depicted in the following diagram.\n",
    "\n",
    "![SQD diagram](../_static/images/sqd_diagram.png)\n",
    "\n",
    "SQD is known to work well when the target eigenstate is sparse: the wave function is supported in a set of basis states $\\mathcal{S} = \\{|x\\rangle \\}$ whose size does not increase exponentially with the size of the problem. In this scenario, the diagonalization of the Hamiltonian projected into the subspace defined by $\\mathcal{S}$:\n",
    "$$\n",
    "H_\\mathcal{S} = P_\\mathcal{S} H  P_\\mathcal{S} \\textrm{ with } P_\\mathcal{S} = \\sum_{x \\in \\mathcal{S}} |x \\rangle \\langle x |;\n",
    "$$\n",
    "yields a good approximation to the target eigenstate. The role of the quantum device is to produce samples of the members of $\\mathcal{S}$ only. First, a quantum circuit prepares the state $|\\Psi\\rangle$ in the quantum device. The Jordan-Wigner encoding is used. Consequently, members of the computational basis represent Fock states (electronic configurations/determinants). The circuit is sampled in the computational basis, yielding the set of noisy configurations $\\tilde{\\mathcal{X}}$. The configurations are represented by bitstrings. The set $\\tilde{\\mathcal{X}}$ is then passed into the classical post-processing block, where the [self-consistent configuration recovery technique](https://arxiv.org/abs/2405.05068) is used. In the SQD framework, the role of the quantum device is to produce a probability distribution."
   ]
  },
  {
   "cell_type": "code",
   "execution_count": 1,
   "id": "92a217b9-cc55-4c2e-8de5-8136eabd3d93",
   "metadata": {},
   "outputs": [
    {
     "name": "stdout",
     "output_type": "stream",
     "text": [
      "Collecting qiskit-addon-sqd\n",
      "  Using cached qiskit_addon_sqd-0.10.0-py3-none-any.whl.metadata (26 kB)\n",
      "Requirement already satisfied: jax>=0.4.30 in /root/venv/lib64/python3.11/site-packages (from qiskit-addon-sqd) (0.5.3)\n",
      "Requirement already satisfied: jaxlib>=0.4.30 in /root/venv/lib64/python3.11/site-packages (from qiskit-addon-sqd) (0.5.3)\n",
      "Requirement already satisfied: numpy>=1.26 in /root/venv/lib64/python3.11/site-packages (from qiskit-addon-sqd) (2.2.4)\n",
      "Requirement already satisfied: pyscf>=2.5 in /root/venv/lib64/python3.11/site-packages (from qiskit-addon-sqd) (2.8.0)\n",
      "Requirement already satisfied: qiskit>=1.2 in /root/venv/lib64/python3.11/site-packages (from qiskit-addon-sqd) (1.4.2)\n",
      "Requirement already satisfied: scipy>=1.13.1 in /root/venv/lib64/python3.11/site-packages (from qiskit-addon-sqd) (1.15.2)\n",
      "Requirement already satisfied: ml_dtypes>=0.4.0 in /root/venv/lib64/python3.11/site-packages (from jax>=0.4.30->qiskit-addon-sqd) (0.5.1)\n",
      "Requirement already satisfied: opt_einsum in /root/venv/lib64/python3.11/site-packages (from jax>=0.4.30->qiskit-addon-sqd) (3.4.0)\n",
      "Requirement already satisfied: h5py>=2.7 in /root/venv/lib64/python3.11/site-packages (from pyscf>=2.5->qiskit-addon-sqd) (3.13.0)\n",
      "Requirement already satisfied: setuptools in /root/venv/lib64/python3.11/site-packages (from pyscf>=2.5->qiskit-addon-sqd) (65.5.1)\n",
      "Requirement already satisfied: rustworkx>=0.15.0 in /root/venv/lib64/python3.11/site-packages (from qiskit>=1.2->qiskit-addon-sqd) (0.16.0)\n",
      "Requirement already satisfied: sympy>=1.3 in /root/venv/lib64/python3.11/site-packages (from qiskit>=1.2->qiskit-addon-sqd) (1.13.3)\n",
      "Requirement already satisfied: dill>=0.3 in /root/venv/lib64/python3.11/site-packages (from qiskit>=1.2->qiskit-addon-sqd) (0.3.9)\n",
      "Requirement already satisfied: python-dateutil>=2.8.0 in /root/venv/lib64/python3.11/site-packages (from qiskit>=1.2->qiskit-addon-sqd) (2.9.0.post0)\n",
      "Requirement already satisfied: stevedore>=3.0.0 in /root/venv/lib64/python3.11/site-packages (from qiskit>=1.2->qiskit-addon-sqd) (5.4.1)\n",
      "Requirement already satisfied: typing-extensions in /root/venv/lib64/python3.11/site-packages (from qiskit>=1.2->qiskit-addon-sqd) (4.13.0)\n",
      "Requirement already satisfied: symengine<0.14,>=0.11 in /root/venv/lib64/python3.11/site-packages (from qiskit>=1.2->qiskit-addon-sqd) (0.13.0)\n",
      "Requirement already satisfied: six>=1.5 in /root/venv/lib64/python3.11/site-packages (from python-dateutil>=2.8.0->qiskit>=1.2->qiskit-addon-sqd) (1.17.0)\n",
      "Requirement already satisfied: pbr>=2.0.0 in /root/venv/lib64/python3.11/site-packages (from stevedore>=3.0.0->qiskit>=1.2->qiskit-addon-sqd) (6.1.1)\n",
      "Requirement already satisfied: mpmath<1.4,>=1.1.0 in /root/venv/lib64/python3.11/site-packages (from sympy>=1.3->qiskit>=1.2->qiskit-addon-sqd) (1.3.0)\n",
      "Using cached qiskit_addon_sqd-0.10.0-py3-none-any.whl (30 kB)\n",
      "Installing collected packages: qiskit-addon-sqd\n",
      "Successfully installed qiskit-addon-sqd-0.10.0\n",
      "Requirement already satisfied: ffsim in /root/venv/lib64/python3.11/site-packages (0.0.52)\n",
      "Requirement already satisfied: numpy in /root/venv/lib64/python3.11/site-packages (from ffsim) (2.2.4)\n",
      "Requirement already satisfied: opt-einsum in /root/venv/lib64/python3.11/site-packages (from ffsim) (3.4.0)\n",
      "Requirement already satisfied: orjson in /root/venv/lib64/python3.11/site-packages (from ffsim) (3.10.16)\n",
      "Requirement already satisfied: pyscf>=2.7 in /root/venv/lib64/python3.11/site-packages (from ffsim) (2.8.0)\n",
      "Requirement already satisfied: qiskit>=1.1 in /root/venv/lib64/python3.11/site-packages (from ffsim) (1.4.2)\n",
      "Requirement already satisfied: scipy in /root/venv/lib64/python3.11/site-packages (from ffsim) (1.15.2)\n",
      "Requirement already satisfied: typing-extensions in /root/venv/lib64/python3.11/site-packages (from ffsim) (4.13.0)\n",
      "Requirement already satisfied: h5py>=2.7 in /root/venv/lib64/python3.11/site-packages (from pyscf>=2.7->ffsim) (3.13.0)\n",
      "Requirement already satisfied: setuptools in /root/venv/lib64/python3.11/site-packages (from pyscf>=2.7->ffsim) (65.5.1)\n",
      "Requirement already satisfied: rustworkx>=0.15.0 in /root/venv/lib64/python3.11/site-packages (from qiskit>=1.1->ffsim) (0.16.0)\n",
      "Requirement already satisfied: sympy>=1.3 in /root/venv/lib64/python3.11/site-packages (from qiskit>=1.1->ffsim) (1.13.3)\n",
      "Requirement already satisfied: dill>=0.3 in /root/venv/lib64/python3.11/site-packages (from qiskit>=1.1->ffsim) (0.3.9)\n",
      "Requirement already satisfied: python-dateutil>=2.8.0 in /root/venv/lib64/python3.11/site-packages (from qiskit>=1.1->ffsim) (2.9.0.post0)\n",
      "Requirement already satisfied: stevedore>=3.0.0 in /root/venv/lib64/python3.11/site-packages (from qiskit>=1.1->ffsim) (5.4.1)\n",
      "Requirement already satisfied: symengine<0.14,>=0.11 in /root/venv/lib64/python3.11/site-packages (from qiskit>=1.1->ffsim) (0.13.0)\n",
      "Requirement already satisfied: six>=1.5 in /root/venv/lib64/python3.11/site-packages (from python-dateutil>=2.8.0->qiskit>=1.1->ffsim) (1.17.0)\n",
      "Requirement already satisfied: pbr>=2.0.0 in /root/venv/lib64/python3.11/site-packages (from stevedore>=3.0.0->qiskit>=1.1->ffsim) (6.1.1)\n",
      "Requirement already satisfied: mpmath<1.4,>=1.1.0 in /root/venv/lib64/python3.11/site-packages (from sympy>=1.3->qiskit>=1.1->ffsim) (1.3.0)\n",
      "Collecting matplotlib\n",
      "  Using cached matplotlib-3.10.1-cp311-cp311-manylinux_2_17_x86_64.manylinux2014_x86_64.whl.metadata (11 kB)\n",
      "Requirement already satisfied: contourpy>=1.0.1 in /root/venv/lib64/python3.11/site-packages (from matplotlib) (1.3.1)\n",
      "Requirement already satisfied: cycler>=0.10 in /root/venv/lib64/python3.11/site-packages (from matplotlib) (0.12.1)\n",
      "Requirement already satisfied: fonttools>=4.22.0 in /root/venv/lib64/python3.11/site-packages (from matplotlib) (4.56.0)\n",
      "Requirement already satisfied: kiwisolver>=1.3.1 in /root/venv/lib64/python3.11/site-packages (from matplotlib) (1.4.8)\n",
      "Requirement already satisfied: numpy>=1.23 in /root/venv/lib64/python3.11/site-packages (from matplotlib) (2.2.4)\n",
      "Requirement already satisfied: packaging>=20.0 in /root/venv/lib64/python3.11/site-packages (from matplotlib) (24.2)\n",
      "Requirement already satisfied: pillow>=8 in /root/venv/lib64/python3.11/site-packages (from matplotlib) (11.1.0)\n",
      "Requirement already satisfied: pyparsing>=2.3.1 in /root/venv/lib64/python3.11/site-packages (from matplotlib) (3.2.3)\n",
      "Requirement already satisfied: python-dateutil>=2.7 in /root/venv/lib64/python3.11/site-packages (from matplotlib) (2.9.0.post0)\n",
      "Requirement already satisfied: six>=1.5 in /root/venv/lib64/python3.11/site-packages (from python-dateutil>=2.7->matplotlib) (1.17.0)\n",
      "Using cached matplotlib-3.10.1-cp311-cp311-manylinux_2_17_x86_64.manylinux2014_x86_64.whl (8.6 MB)\n",
      "Installing collected packages: matplotlib\n",
      "Successfully installed matplotlib-3.10.1\n",
      "Collecting pylatexenc\n",
      "  Using cached pylatexenc-2.10-py3-none-any.whl\n",
      "Installing collected packages: pylatexenc\n",
      "Successfully installed pylatexenc-2.10\n"
     ]
    }
   ],
   "source": [
    "!pip install qiskit-addon-sqd\n",
    "!pip install ffsim\n",
    "!pip install matplotlib\n",
    "!pip install pylatexenc"
   ]
  },
  {
   "cell_type": "markdown",
   "id": "afeb054c",
   "metadata": {},
   "source": [
    "### Step 1: Map problem to a quantum circuit\n",
    "\n",
    "In this tutorial, we will approximate the ground state energy of an $N_2$ molecule. First, we will specify the molecule and its properties. Next, we will create a [local unitary cluster Jastrow (LUCJ)](https://pubs.rsc.org/en/content/articlelanding/2023/sc/d3sc02516k) ansatz (quantum circuit) to generate samples from a quantum computer for ground state energy estimation.\n",
    "\n",
    "First, we will specify the molecule and its properties."
   ]
  },
  {
   "cell_type": "code",
   "execution_count": 2,
   "id": "677f54ac-b4ed-47e3-b5ba-5366d3a520f9",
   "metadata": {},
   "outputs": [
    {
     "name": "stderr",
     "output_type": "stream",
     "text": [
      "OpenBLAS WARNING - could not determine the L2 cache size on this system, assuming 256k\n",
      "OpenBLAS WARNING - could not determine the L2 cache size on this system, assuming 256k\n",
      "OpenBLAS WARNING - could not determine the L2 cache size on this system, assuming 256k\n"
     ]
    },
    {
     "name": "stdout",
     "output_type": "stream",
     "text": [
      "converged SCF energy = -108.835236570774\n",
      "CASCI E = -109.046671778080  E(CI) = -32.8155692383188  S^2 = 0.0000000\n"
     ]
    }
   ],
   "source": [
    "import warnings\n",
    "\n",
    "warnings.filterwarnings(\"ignore\")\n",
    "\n",
    "import pyscf\n",
    "import pyscf.cc\n",
    "import pyscf.mcscf\n",
    "\n",
    "# Specify molecule properties\n",
    "open_shell = False\n",
    "spin_sq = 0\n",
    "\n",
    "# Build N2 molecule\n",
    "mol = pyscf.gto.Mole()\n",
    "mol.build(\n",
    "    atom=[[\"N\", (0, 0, 0)], [\"N\", (1.0, 0, 0)]],\n",
    "    basis=\"6-31g\",\n",
    "    symmetry=\"Dooh\",\n",
    ")\n",
    "\n",
    "# Define active space\n",
    "n_frozen = 2\n",
    "active_space = range(n_frozen, mol.nao_nr())\n",
    "\n",
    "# Get molecular integrals\n",
    "scf = pyscf.scf.RHF(mol).run()\n",
    "num_orbitals = len(active_space)\n",
    "n_electrons = int(sum(scf.mo_occ[active_space]))\n",
    "num_elec_a = (n_electrons + mol.spin) // 2\n",
    "num_elec_b = (n_electrons - mol.spin) // 2\n",
    "cas = pyscf.mcscf.CASCI(scf, num_orbitals, (num_elec_a, num_elec_b))\n",
    "mo = cas.sort_mo(active_space, base=0)\n",
    "hcore, nuclear_repulsion_energy = cas.get_h1cas(mo)\n",
    "eri = pyscf.ao2mo.restore(1, cas.get_h2cas(mo), num_orbitals)\n",
    "\n",
    "# Compute exact energy\n",
    "exact_energy = cas.run().e_tot"
   ]
  },
  {
   "cell_type": "markdown",
   "id": "96bfe018",
   "metadata": {},
   "source": [
    "Next, we will create the ansatz. The ``LUCJ`` ansatz is a parameterized quantum circuit, and we will initialize it with `t2` and `t1` amplitudes obtained from a CCSD calculation."
   ]
  },
  {
   "cell_type": "code",
   "execution_count": 3,
   "id": "66270387",
   "metadata": {},
   "outputs": [
    {
     "name": "stdout",
     "output_type": "stream",
     "text": [
      "E(CCSD) = -109.0398256929733  E_corr = -0.2045891221988312\n"
     ]
    }
   ],
   "source": [
    "# Get CCSD t2 amplitudes for initializing the ansatz\n",
    "ccsd = pyscf.cc.CCSD(scf, frozen=[i for i in range(mol.nao_nr()) if i not in active_space]).run()\n",
    "t1 = ccsd.t1\n",
    "t2 = ccsd.t2"
   ]
  },
  {
   "attachments": {},
   "cell_type": "markdown",
   "id": "f4d882fa",
   "metadata": {},
   "source": [
    "We will use the [ffsim](https://github.com/qiskit-community/ffsim/tree/main) package to create and initialize the ansatz with `t2` and `t1` amplitudes computed above. Since our molecule has a closed-shell Hartree-Fock state, we will use the spin-balanced variant of the UCJ ansatz, [UCJOpSpinBalanced](https://qiskit-community.github.io/ffsim/api/ffsim.html#ffsim.UCJOpSpinBalanced).\n",
    "\n",
    "As our target IBM hardware has a heavy-hex topology, we will adopt the [_zig-zag_ pattern for qubit interactions](https://pubs.rsc.org/en/content/articlehtml/2023/sc/d3sc02516k). In this pattern, orbitals (represented by qubits) with the same spin are connected with a line topology (red and blue circles) where each line take a zig-zag shape due the heavy-hex connectivity of the target hardware. Again, due to the heavy-hex topology, orbitals for different spins have connections between every 4th orbital (0, 4, 8, etc.) (purple circles).\n",
    "\n",
    "![lucj_ansatz](../_static/images/lucj_ansatz_zig_zag_pattern.jpg)"
   ]
  },
  {
   "cell_type": "code",
   "execution_count": 4,
   "id": "dd69a86c",
   "metadata": {},
   "outputs": [],
   "source": [
    "import ffsim\n",
    "from qiskit import QuantumCircuit, QuantumRegister\n",
    "\n",
    "n_reps = 1\n",
    "alpha_alpha_indices = [(p, p + 1) for p in range(num_orbitals - 1)]\n",
    "alpha_beta_indices = [(p, p) for p in range(0, num_orbitals, 4)]\n",
    "\n",
    "ucj_op = ffsim.UCJOpSpinBalanced.from_t_amplitudes(\n",
    "    t2=t2,\n",
    "    t1=t1,\n",
    "    n_reps=n_reps,\n",
    "    interaction_pairs=(alpha_alpha_indices, alpha_beta_indices),\n",
    ")\n",
    "\n",
    "nelec = (num_elec_a, num_elec_b)\n",
    "\n",
    "# create an empty quantum circuit\n",
    "qubits = QuantumRegister(2 * num_orbitals, name=\"q\")\n",
    "circuit = QuantumCircuit(qubits)\n",
    "\n",
    "# prepare Hartree-Fock state as the reference state and append it to the quantum circuit\n",
    "circuit.append(ffsim.qiskit.PrepareHartreeFockJW(num_orbitals, nelec), qubits)\n",
    "\n",
    "# apply the UCJ operator to the reference state\n",
    "circuit.append(ffsim.qiskit.UCJOpSpinBalancedJW(ucj_op), qubits)\n",
    "circuit.measure_all()"
   ]
  },
  {
   "cell_type": "markdown",
   "id": "db11bf6d",
   "metadata": {},
   "source": [
    "### Step 2: Optimize the problem"
   ]
  },
  {
   "cell_type": "markdown",
   "id": "0760b3f3",
   "metadata": {},
   "source": [
    "Next, we will optimize our circuit for a target hardware. We need to choose the hardware device to use before optimizing our circuit. We will use a fake 127-qubit backend from ``qiskit_ibm_runtime`` to emulate a real device. To run on a real QPU, just replace the fake backend with a real backend. Check out the [Qiskit IBM Runtime docs](https://docs.quantum.ibm.com/guides/get-started-with-primitives#get-started-with-sampler) for more info."
   ]
  },
  {
   "cell_type": "code",
   "execution_count": 5,
   "id": "53a039d8",
   "metadata": {},
   "outputs": [],
   "source": [
    "#from qiskit_ibm_runtime.fake_provider import FakeSherbrooke\n",
    "#\n",
    "#backend = FakeSherbrooke()\n",
    "import os\n",
    "import json\n",
    "from dotenv import load_dotenv\n",
    "from qiskit.transpiler.target import Target\n",
    "from qiskit_ibm_runtime.utils.backend_converter import convert_to_target\n",
    "from qiskit_ibm_runtime.models import BackendProperties, BackendConfiguration\n",
    "from qrmi import IBMDirectAccess\n",
    "\n",
    "load_dotenv()\n",
    "qrmi = IBMDirectAccess()\n",
    "target = qrmi.target(os.environ[\"QRMI_RESOURCE_ID\"])\n",
    "target = json.loads(target.value)\n",
    "backend_config = BackendConfiguration.from_dict(target[\"configuration\"])\n",
    "backend_props = BackendProperties.from_dict(target[\"properties\"])\n",
    "target = convert_to_target(backend_config, backend_props)"
   ]
  },
  {
   "cell_type": "markdown",
   "id": "057ebbf6",
   "metadata": {},
   "source": [
    "Next, we recommend the following steps to optimize the ansatz and make it hardware-compatible.\n",
    "\n",
    "- Select physical qubits (`initial_layout`) from the target hardware that adheres to the zig-zag pattern described above. Laying out qubits in this pattern leads to an efficient hardware-compatible circuit with fewer gates.\n",
    "- Generate a staged pass manager using the [generate_preset_pass_manager](https://docs.quantum.ibm.com/api/qiskit/transpiler_preset#generate_preset_pass_manager) function from Qiskit with your choice of `backend` and `initial_layout`.\n",
    "- Set the `pre_init` stage of your staged pass manager to `ffsim.qiskit.PRE_INIT`. `ffsim.qiskit.PRE_INIT` includes Qiskit transpiler passes that decompose gates into orbital rotations and then merges the orbital rotations, resulting in fewer gates in the final circuit.\n",
    "- Run the pass manager on your circuit. "
   ]
  },
  {
   "cell_type": "code",
   "execution_count": 6,
   "id": "7d554aa5",
   "metadata": {},
   "outputs": [
    {
     "name": "stdout",
     "output_type": "stream",
     "text": [
      "Gate counts (w/o pre-init passes): OrderedDict([('rz', 4518), ('sx', 3406), ('ecr', 1366), ('x', 235), ('measure', 32), ('barrier', 1)])\n",
      "Gate counts (w/ pre-init passes): OrderedDict([('rz', 2468), ('sx', 2160), ('ecr', 730), ('x', 81), ('measure', 32), ('barrier', 1)])\n"
     ]
    }
   ],
   "source": [
    "from qiskit.transpiler.preset_passmanagers import generate_preset_pass_manager\n",
    "\n",
    "spin_a_layout = [0, 14, 18, 19, 20, 33, 39, 40, 41, 53, 60, 61, 62, 72, 81, 82]\n",
    "spin_b_layout = [2, 3, 4, 15, 22, 23, 24, 34, 43, 44, 45, 54, 64, 65, 66, 73]\n",
    "initial_layout = spin_a_layout + spin_b_layout\n",
    "\n",
    "pass_manager = generate_preset_pass_manager(\n",
    "    optimization_level=3, target=target, initial_layout=initial_layout\n",
    ")\n",
    "\n",
    "# without PRE_INIT passes\n",
    "isa_circuit = pass_manager.run(circuit)\n",
    "print(f\"Gate counts (w/o pre-init passes): {isa_circuit.count_ops()}\")\n",
    "\n",
    "# with PRE_INIT passes\n",
    "# We will use the circuit generated by this pass manager for hardware execution\n",
    "pass_manager.pre_init = ffsim.qiskit.PRE_INIT\n",
    "isa_circuit = pass_manager.run(circuit)\n",
    "print(f\"Gate counts (w/ pre-init passes): {isa_circuit.count_ops()}\")"
   ]
  },
  {
   "cell_type": "markdown",
   "id": "0cc1edef",
   "metadata": {},
   "source": [
    "### Step 3: Execute experiments"
   ]
  },
  {
   "cell_type": "markdown",
   "id": "cbf7ef9f",
   "metadata": {},
   "source": [
    "After optimizing the circuit for hardware execution, we are ready to run it on the target hardware and collect samples for ground state energy estimation. As we only have one circuit, we will use Qiskit Runtime's [Job execution mode](https://docs.quantum.ibm.com/guides/execution-modes) and execute our circuit.\n",
    "\n",
    "***Note: We have commented out the code for running the circuit on a QPU and left it for the user's reference. Instead of running on real hardware in this guide, we will just generate random samples drawn from the uniform distribution.***"
   ]
  },
  {
   "cell_type": "code",
   "execution_count": 7,
   "id": "3da09100",
   "metadata": {},
   "outputs": [],
   "source": [
    "import numpy as np\n",
    "#from qiskit_addon_sqd.counts import generate_counts_uniform\n",
    "from qrmi_primitives.ibm import IBMDirectAccessSamplerV2\n",
    "\n",
    "# from qiskit_ibm_runtime import SamplerV2 as Sampler\n",
    "\n",
    "# sampler = Sampler(mode=backend)\n",
    "sampler = IBMDirectAccessSamplerV2()\n",
    "job = sampler.run([isa_circuit], shots=10_000)\n",
    "primitive_result = job.result()\n",
    "pub_result = primitive_result[0]\n",
    "counts = pub_result.data.meas.get_counts()\n",
    "\n",
    "rng = np.random.default_rng(24)\n",
    "#counts = generate_counts_uniform(10_000, num_orbitals * 2, rand_seed=rng)"
   ]
  },
  {
   "cell_type": "markdown",
   "id": "6df05b6e",
   "metadata": {},
   "source": [
    "### Step 4: Post-process results"
   ]
  },
  {
   "cell_type": "markdown",
   "id": "851bc98e-9c08-4e78-9472-36301abc11d8",
   "metadata": {},
   "source": [
    "First, we will transform the counts into a bitstring matrix and probability array for post-processing.\n",
    "\n",
    "Each row in the matrix represents one unique bitstring. Since qubits are indexed from the right of a bitstring in Qiskit, column ``0`` represents qubit ``N-1``, and column ``N-1`` represents qubit ``0``, where ``N`` is the number of qubits.\n",
    "\n",
    "The alpha particles are represented in the column index range ``(N, N/2]``, and the beta particles are represented in the column range ``(N/2, 0]``."
   ]
  },
  {
   "cell_type": "code",
   "execution_count": 8,
   "id": "7a102a7f-aae6-4583-ab82-ae40fcb5496a",
   "metadata": {},
   "outputs": [],
   "source": [
    "from qiskit_addon_sqd.counts import counts_to_arrays\n",
    "\n",
    "# Convert counts into bitstring and probability arrays\n",
    "bitstring_matrix_full, probs_arr_full = counts_to_arrays(counts)"
   ]
  },
  {
   "cell_type": "markdown",
   "id": "eb704101-0fe8-4d12-b572-b1d844e35a90",
   "metadata": {},
   "source": [
    "Next, we iteratively refine the samples using configuration recovery and approximate the ground state at each iteration.\n",
    "\n",
    "There are a few user-controlled options which are important for this technique:\n",
    "\n",
    "- ``iterations``: Number of self-consistent configuration recovery iterations\n",
    "- ``n_batches``: Number of batches of configurations used by the different calls to the eigenstate solver\n",
    "- ``samples_per_batch``: Number of unique configurations to include in each batch\n",
    "- ``max_davidson_cycles``: Maximum number of Davidson cycles run by each eigensolver"
   ]
  },
  {
   "cell_type": "code",
   "execution_count": 9,
   "id": "b72c048e-fe8e-4fc2-b28b-03138249074e",
   "metadata": {},
   "outputs": [
    {
     "name": "stdout",
     "output_type": "stream",
     "text": [
      "Starting configuration recovery iteration 0\n",
      "Batch 0 subspace dimension: 14641\n",
      "Starting configuration recovery iteration 1\n",
      "Batch 0 subspace dimension: 534361\n",
      "Starting configuration recovery iteration 2\n",
      "Batch 0 subspace dimension: 555025\n",
      "Starting configuration recovery iteration 3\n",
      "Batch 0 subspace dimension: 567009\n",
      "Starting configuration recovery iteration 4\n",
      "Batch 0 subspace dimension: 568516\n"
     ]
    }
   ],
   "source": [
    "from qiskit_addon_sqd.configuration_recovery import recover_configurations\n",
    "from qiskit_addon_sqd.fermion import (\n",
    "    bitstring_matrix_to_ci_strs,\n",
    "    solve_fermion,\n",
    ")\n",
    "from qiskit_addon_sqd.subsampling import postselect_and_subsample\n",
    "\n",
    "# SQD options\n",
    "iterations = 5\n",
    "\n",
    "# Eigenstate solver options\n",
    "n_batches = 1\n",
    "samples_per_batch = 500\n",
    "max_davidson_cycles = 200\n",
    "\n",
    "# Self-consistent configuration recovery loop\n",
    "e_hist = np.zeros((iterations, n_batches))  # energy history\n",
    "s_hist = np.zeros((iterations, n_batches))  # spin history\n",
    "occupancy_hist = []\n",
    "avg_occupancy = None\n",
    "for i in range(iterations):\n",
    "    print(f\"Starting configuration recovery iteration {i}\")\n",
    "    # On the first iteration, we have no orbital occupancy information from the\n",
    "    # solver, so we begin with the full set of noisy configurations.\n",
    "    if avg_occupancy is None:\n",
    "        bs_mat_tmp = bitstring_matrix_full\n",
    "        probs_arr_tmp = probs_arr_full\n",
    "\n",
    "    # If we have average orbital occupancy information, we use it to refine the full set of noisy configurations\n",
    "    else:\n",
    "        bs_mat_tmp, probs_arr_tmp = recover_configurations(\n",
    "            bitstring_matrix_full,\n",
    "            probs_arr_full,\n",
    "            avg_occupancy,\n",
    "            num_elec_a,\n",
    "            num_elec_b,\n",
    "            rand_seed=rng,\n",
    "        )\n",
    "\n",
    "    # Create batches of subsamples. We post-select here to remove configurations\n",
    "    # with incorrect hamming weight during iteration 0, since no config recovery was performed.\n",
    "    batches = postselect_and_subsample(\n",
    "        bs_mat_tmp,\n",
    "        probs_arr_tmp,\n",
    "        hamming_right=num_elec_a,\n",
    "        hamming_left=num_elec_b,\n",
    "        samples_per_batch=samples_per_batch,\n",
    "        num_batches=n_batches,\n",
    "        rand_seed=rng,\n",
    "    )\n",
    "\n",
    "    # Run eigenstate solvers in a loop. This loop should be parallelized for larger problems.\n",
    "    e_tmp = np.zeros(n_batches)\n",
    "    s_tmp = np.zeros(n_batches)\n",
    "    occs_tmp = []\n",
    "    coeffs = []\n",
    "    for j in range(n_batches):\n",
    "        strs_a, strs_b = bitstring_matrix_to_ci_strs(batches[j])\n",
    "        print(f\"Batch {j} subspace dimension: {len(strs_a) * len(strs_b)}\")\n",
    "        energy_sci, coeffs_sci, avg_occs, spin = solve_fermion(\n",
    "            batches[j],\n",
    "            hcore,\n",
    "            eri,\n",
    "            open_shell=open_shell,\n",
    "            spin_sq=spin_sq,\n",
    "            max_davidson=max_davidson_cycles,\n",
    "        )\n",
    "        energy_sci += nuclear_repulsion_energy\n",
    "        e_tmp[j] = energy_sci\n",
    "        s_tmp[j] = spin\n",
    "        occs_tmp.append(avg_occs)\n",
    "        coeffs.append(coeffs_sci)\n",
    "\n",
    "    # Combine batch results\n",
    "    avg_occupancy = tuple(np.mean(occs_tmp, axis=0))\n",
    "\n",
    "    # Track optimization history\n",
    "    e_hist[i, :] = e_tmp\n",
    "    s_hist[i, :] = s_tmp\n",
    "    occupancy_hist.append(avg_occupancy)"
   ]
  },
  {
   "cell_type": "markdown",
   "id": "9d78906b-4759-4506-9c69-85d4e67766b3",
   "metadata": {},
   "source": [
    "The first plot shows that after a few iterations we estimate the ground state energy within ``~31 mH`` (chemical accuracy is typically accepted to be ``1 kcal/mol`` $\\approx$ ``1.6 mH``). Remember, the quantum samples in this demo were pure noise. The signal here comes from *a priori* knowledge of the electronic structure and molecular Hamiltonian.\n",
    "\n",
    "The second plot shows the average occupancy of each spatial orbital after the final iteration. We can see that both the spin-up and spin-down electrons occupy the first five orbitals with high probability in our solutions."
   ]
  },
  {
   "cell_type": "code",
   "execution_count": 10,
   "id": "caffd888-e89c-4aa9-8bae-4d1bb723b35e",
   "metadata": {},
   "outputs": [
    {
     "name": "stdout",
     "output_type": "stream",
     "text": [
      "Exact energy: -109.04667 Ha\n",
      "SQD energy: -109.00426 Ha\n",
      "Absolute error: 0.04241 Ha\n"
     ]
    },
    {
     "data": {
      "image/png": "[encoded data removed]",
      "text/plain": [
       "<Figure size 1200x600 with 2 Axes>"
      ]
     },
     "metadata": {},
     "output_type": "display_data"
    }
   ],
   "source": [
    "import matplotlib.pyplot as plt\n",
    "\n",
    "# Data for energies plot\n",
    "x1 = range(iterations)\n",
    "min_e = [np.min(e) for e in e_hist]\n",
    "e_diff = [abs(e - exact_energy) for e in min_e]\n",
    "yt1 = [1.0, 1e-1, 1e-2, 1e-3, 1e-4]\n",
    "\n",
    "# Chemical accuracy (+/- 1 milli-Hartree)\n",
    "chem_accuracy = 0.001\n",
    "\n",
    "# Data for avg spatial orbital occupancy\n",
    "y2 = occupancy_hist[-1][0] + occupancy_hist[-1][1]\n",
    "x2 = range(len(y2))\n",
    "\n",
    "fig, axs = plt.subplots(1, 2, figsize=(12, 6))\n",
    "\n",
    "# Plot energies\n",
    "axs[0].plot(x1, e_diff, label=\"energy error\", marker=\"o\")\n",
    "axs[0].set_xticks(x1)\n",
    "axs[0].set_xticklabels(x1)\n",
    "axs[0].set_yticks(yt1)\n",
    "axs[0].set_yticklabels(yt1)\n",
    "axs[0].set_yscale(\"log\")\n",
    "axs[0].set_ylim(1e-4)\n",
    "axs[0].axhline(y=chem_accuracy, color=\"#BF5700\", linestyle=\"--\", label=\"chemical accuracy\")\n",
    "axs[0].set_title(\"Approximated Ground State Energy Error vs SQD Iterations\")\n",
    "axs[0].set_xlabel(\"Iteration Index\", fontdict={\"fontsize\": 12})\n",
    "axs[0].set_ylabel(\"Energy Error (Ha)\", fontdict={\"fontsize\": 12})\n",
    "axs[0].legend()\n",
    "\n",
    "# Plot orbital occupancy\n",
    "axs[1].bar(x2, y2, width=0.8)\n",
    "axs[1].set_xticks(x2)\n",
    "axs[1].set_xticklabels(x2)\n",
    "axs[1].set_title(\"Avg Occupancy per Spatial Orbital\")\n",
    "axs[1].set_xlabel(\"Orbital Index\", fontdict={\"fontsize\": 12})\n",
    "axs[1].set_ylabel(\"Avg Occupancy\", fontdict={\"fontsize\": 12})\n",
    "\n",
    "print(f\"Exact energy: {exact_energy:.5f} Ha\")\n",
    "print(f\"SQD energy: {min_e[-1]:.5f} Ha\")\n",
    "print(f\"Absolute error: {e_diff[-1]:.5f} Ha\")\n",
    "plt.tight_layout()\n",
    "plt.show()"
   ]
  },
  {
   "cell_type": "code",
   "execution_count": null,
   "id": "57af8968-bb92-41bc-8632-e5d349c67d12",
   "metadata": {},
   "outputs": [],
   "source": []
  }
 ],
 "metadata": {
  "kernelspec": {
   "display_name": "Python 3 (ipykernel)",
   "language": "python",
   "name": "python3"
  },
  "language_info": {
   "codemirror_mode": {
    "name": "ipython",
    "version": 3
   },
   "file_extension": ".py",
   "mimetype": "text/x-python",
   "name": "python",
   "nbconvert_exporter": "python",
   "pygments_lexer": "ipython3",
   "version": "3.11.9"
  }
 },
 "nbformat": 4,
 "nbformat_minor": 5
}
